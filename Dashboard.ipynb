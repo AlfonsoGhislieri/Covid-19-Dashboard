{
 "cells": [
  {
   "cell_type": "markdown",
   "metadata": {},
   "source": [
    "**Alfonso Ghislieri - Dec 2022 - alfonso.ghis@hotmail.fr** \n",
    "\n",
    "*Based on UK Government [data](https://coronavirus.data.gov.uk/) published by [Public Health England](https://www.gov.uk/government/organisations/public-health-england).*"
   ]
  },
  {
   "cell_type": "markdown",
   "metadata": {},
   "source": [
    "# Covid-19 Dashboard\n",
    "\n",
    "This dashboard uses the Public Health England (PHE) data for the covid 19 pandemic in the United Kingdom to display some comparative graphs, and allow users to interact with these graphs. The source of this data comes from PHE's open data [API](https://coronavirus.data.gov.uk/details/developers-guide/main-api).\n",
    "\n",
    "This dashboard aims to compare:\n",
    "- Daily hospital admissions with occupied mechanical ventilator beds and daily deaths.\n",
    "- The number of vaccines administered daily with the number of new daily cases.\n",
    "\n",
    "Note: some data, particularly more recent data, is missing and may cause some inaccuracies."
   ]
  },
  {
   "cell_type": "code",
   "execution_count": 24,
   "metadata": {},
   "outputs": [],
   "source": [
    "from IPython.display import clear_output\n",
    "import ipywidgets as wdg\n",
    "import pandas as pd\n",
    "import numpy as np\n",
    "import matplotlib.pyplot as plt\n",
    "import json\n",
    "import time\n",
    "from uk_covid19 import Cov19API"
   ]
  },
  {
   "cell_type": "code",
   "execution_count": 25,
   "metadata": {},
   "outputs": [],
   "source": [
    "# Parameters related to graph matplotlib\n",
    "\n",
    "%matplotlib inline\n",
    "# make figures larger\n",
    "plt.rcParams['figure.dpi'] = 100\n",
    "# make figures wider\n",
    "plt.rcParams[\"figure.figsize\"] = (10,5)\n"
   ]
  },
  {
   "cell_type": "code",
   "execution_count": 26,
   "metadata": {},
   "outputs": [],
   "source": [
    "def load_json_data(filename):\n",
    "    \"\"\" Load json files and returns rawdata \"\"\"\n",
    "    with open(filename+'.json', 'rt') as INFILE:\n",
    "        data=json.load(INFILE)\n",
    "        return data['data']\n",
    "\n",
    "# Load raw data from json file\n",
    "covid_jsondata=load_json_data('covid_data')"
   ]
  },
  {
   "cell_type": "code",
   "execution_count": 27,
   "metadata": {},
   "outputs": [],
   "source": [
    "# Helper functions that are used for data wrangling\n",
    "\n",
    "def parse_date(datestring):\n",
    "    \"\"\" Convert a date string into a pandas datetime object \"\"\"\n",
    "    return pd.to_datetime(datestring, format=\"%Y-%m-%d\")\n",
    "\n",
    "def initialize_dataframe(rawdata, column_array):\n",
    "    \"\"\" Set up dataframe with dates as indices and add other initial columns \"\"\"\n",
    "    # Create array of all dates and sort them \n",
    "    dates=[dictionary['Date'] for dictionary in rawdata]\n",
    "    dates.sort()    \n",
    "    \n",
    "    # Create range of dates for dataframe index\n",
    "    index=pd.date_range(parse_date(dates[0]), parse_date(dates[-1]), freq='D')\n",
    "    \n",
    "    # Create dataframe, set index and empty columns\n",
    "    return pd.DataFrame(index=index, columns=column_array)\n",
    "    \n",
    "def set_dataframe_value(dataframe,entry,column):\n",
    "    \"\"\" Inserts data into dataframe \"\"\"\n",
    "    # Obtain date for entry\n",
    "    date=parse_date(entry['Date'])\n",
    "\n",
    "    # Check if no data already exists for a date - prevent possible duplication if same date exists\n",
    "    if pd.isna(dataframe.loc[date,column]):\n",
    "        # Convert to float or replace None with 0 in our data \n",
    "        val = float(entry[column]) if entry[column]!= None else 0.0\n",
    "        # Insert data into dataframe\n",
    "        dataframe.loc[date,column]=val\n",
    "    "
   ]
  },
  {
   "cell_type": "code",
   "execution_count": 28,
   "metadata": {},
   "outputs": [],
   "source": [
    "def wrangle_data(rawdata, column_array):\n",
    "    \"\"\" Creates, fills and returns a dataframe from rawdata and user specified columns\n",
    "    Parameters: rawdata - data from json file or API call. \n",
    "    column_array - columns to be included in dataframe. \"\"\"\n",
    "    \n",
    "    # Create initial dataframe skeleton\n",
    "    df=initialize_dataframe(rawdata, column_array)\n",
    "\n",
    "    # Iterate through each entry of rawdata \n",
    "    for entry in rawdata:\n",
    "        # Iterate through all columns that were passed as a parameter\n",
    "        for column in column_array:\n",
    "            # Insert values into dataframe\n",
    "            set_dataframe_value(df,entry,column)\n",
    "        \n",
    "    # fill in any remaining \"holes\" due to missing dates\n",
    "    df.fillna(0.0, inplace=True)\n",
    "    \n",
    "    return df\n",
    "\n",
    "# Creation and population of dataframes from rawdata:\n",
    "hospital_ventilator_df=wrangle_data(covid_jsondata, ['Hospital Admissions','Occupied Ventilator Beds','Daily Deaths']) \n",
    "vaccine_cases_df=wrangle_data(covid_jsondata, ['Daily Cases','Daily Vaccines Administered'])"
   ]
  },
  {
   "cell_type": "code",
   "execution_count": 29,
   "metadata": {},
   "outputs": [],
   "source": [
    "# Initialize the filters and structure necessary to make API call and obtain latest data\n",
    "\n",
    "filters = [\n",
    "    'areaType=overview'\n",
    "]\n",
    "\n",
    "structure = {\n",
    "        \"Date\": \"date\",\n",
    "        \"Hospital Admissions\": \"newAdmissions\",\n",
    "        \"Occupied Ventilator Beds\": \"covidOccupiedMVBeds\",\n",
    "        \"Daily Deaths\": \"newDailyNsoDeathsByDeathDate\",\n",
    "        \"Daily Vaccines Administered\": \"newVaccinesGivenByPublishDate\",\n",
    "        \"Daily Cases\": \"newCasesByPublishDate\"\n",
    "}\n",
    "      \n",
    "\n",
    "def access_api():\n",
    "    \"\"\" Accesses the PHE API. Returns raw data in the same format as data loaded from the \"canned\" JSON file. \"\"\"\n",
    "    api = Cov19API(filters=filters, structure=structure)\n",
    "    return api.get_json()\n",
    "        "
   ]
  },
  {
   "cell_type": "markdown",
   "metadata": {},
   "source": [
    "## Refresh button\n",
    "Clicking on the REFRESH button below will download fresh raw data from the [uk covid 19 API](https://coronavirus.data.gov.uk/details/developers-guide/main-api), and update existing dataframes and graphs to show the latest statistics.\n",
    "\n",
    "The button will also change appearance to give user feedback if the process is successful or unsuccessful. \n",
    "- WARNING: It might take a few seconds before a response is obtained from the API and the button is updated."
   ]
  },
  {
   "cell_type": "code",
   "execution_count": 30,
   "metadata": {},
   "outputs": [
    {
     "data": {
      "application/vnd.jupyter.widget-view+json": {
       "model_id": "96da6a0eac8b446a8ff4da4ce2d256c9",
       "version_major": 2,
       "version_minor": 0
      },
      "text/plain": [
       "Button(button_style='info', description='REFRESH', icon='download', style=ButtonStyle(), tooltip='Update covid…"
      ]
     },
     "metadata": {},
     "output_type": "display_data"
    }
   ],
   "source": [
    "def api_button_callback(button):\n",
    "    \"\"\" Button callback function - button parameter is necessary but unused.\n",
    "    Callback accesses API, wrangles data and updates both global variable \n",
    "    dataframes used for plotting graphs \"\"\"\n",
    "    # try - catch used for error handling - in case servers are down or other issues arise with getting API data\n",
    "\n",
    "    try:\n",
    "        # Get updated data from API\n",
    "        apidata=access_api()['data']\n",
    "      \n",
    "        # wrangle the data and overwrite the existing dataframes\n",
    "        global hospital_ventilator_df\n",
    "        global vaccine_cases_df\n",
    "        \n",
    "        hospital_ventilator_df=wrangle_data(apidata, ['Hospital Admissions','Occupied Ventilator Beds','Daily Deaths'])\n",
    "        vaccine_cases_df=wrangle_data(apidata, ['Daily Cases','Daily Vaccines Administered'])\n",
    "        \n",
    "        # Update button to show success\n",
    "        apibutton.icon=\"check\"\n",
    "        apibutton.disabled=True\n",
    "        apibutton.description=\"REFRESHED\"\n",
    "\n",
    "    except:\n",
    "        # Disable button and give user negative feedback if API call fails\n",
    "        apibutton.disabled=True\n",
    "        apibutton.icon=\"times\"\n",
    "        apibutton.description=\"UNAVAILABLE\"\n",
    "        \n",
    "    # Refresh graph with updated values\n",
    "    refresh_graph()\n",
    "\n",
    "# Create button used to update data\n",
    "apibutton=wdg.Button(\n",
    "    description='REFRESH',\n",
    "    disabled=False,\n",
    "    button_style='info', \n",
    "    tooltip=\"Update covid19 data\",\n",
    "    icon='download'\n",
    ")\n",
    "\n",
    "# Callback for button click\n",
    "apibutton.on_click(api_button_callback) \n",
    "\n",
    "# Display button\n",
    "display(apibutton)"
   ]
  },
  {
   "cell_type": "code",
   "execution_count": 31,
   "metadata": {},
   "outputs": [],
   "source": [
    "# Widget initialization for graphs\n",
    "\n",
    "# Create widget that allows viewing of multiple statistics\n",
    "hospital_ventilator_options=wdg.SelectMultiple(\n",
    "    options=['Hospital Admissions','Occupied Ventilator Beds','Daily Deaths'],\n",
    "    value=['Hospital Admissions','Occupied Ventilator Beds','Daily Deaths'],\n",
    "    rows=3,\n",
    "    description='Stats:',\n",
    "    disabled=False\n",
    ")\n",
    "\n",
    "# Initialize range of dates for timeframe widget\n",
    "dates = pd.date_range(\n",
    "    hospital_ventilator_df.index[0], \n",
    "    hospital_ventilator_df.index[-1], \n",
    "    freq='D')\n",
    "options = [(date.strftime(' %b %Y '), date) for date in dates]\n",
    "\n",
    "# Create widget that allows user to select range of dates\n",
    "hospital_ventilator_timeframe=wdg.SelectionRangeSlider(\n",
    "    options=options,\n",
    "    index=(0, len(options)-1),\n",
    "    description='Time',\n",
    "    disabled=False,\n",
    "    layout={'width':'500px'}\n",
    ")\n",
    "\n",
    "# Create widget that allows user to toggle between linear and logarithmic view\n",
    "vaccine_cases_scale=wdg.RadioButtons(\n",
    "    options=['Linear', 'Logarithmic'],\n",
    "    description='Scale:',\n",
    "    disabled=False\n",
    ")"
   ]
  },
  {
   "cell_type": "code",
   "execution_count": 32,
   "metadata": {},
   "outputs": [],
   "source": [
    "# Plotting graphs\n",
    "\n",
    "def plot_ventilator_hospital(option, timeframe):\n",
    "    hospital_ventilator_df.loc[timeframe[0] : timeframe[1]][list(option)].plot()\n",
    "    plt.show()\n",
    "    \n",
    "def plot_vaccine_cases(scale):\n",
    "    # Toggles between linear and logarithmic views\n",
    "    if scale=='Linear':\n",
    "        logscale=False\n",
    "    else:\n",
    "        logscale=True\n",
    "    vaccine_cases_df.plot(logy=logscale)\n",
    "    plt.show()\n",
    "\n",
    "def refresh_graph():\n",
    "    \"\"\" Change widget values to redraw hospital_ventilator graph \"\"\"\n",
    "    current=hospital_ventilator_options.value\n",
    "    if current==hospital_ventilator_options.options[0:3]:\n",
    "        other=hospital_ventilator_options.options[0:2]\n",
    "    else:\n",
    "        other=hospital_ventilator_options.options[0:3]\n",
    "\n",
    "    # Swap values to force graph redraw\n",
    "    hospital_ventilator_options.value=other \n",
    "    hospital_ventilator_options.value=current\n",
    "\n",
    "# Create horizontal box for widgets\n",
    "ventilator_hospital_controls=wdg.HBox([hospital_ventilator_options, hospital_ventilator_timeframe])\n",
    "\n",
    "# plot graphs and add widgets to them\n",
    "ventilator_hospital_graph=wdg.interactive_output(\n",
    "    plot_ventilator_hospital, \n",
    "    {'option': hospital_ventilator_options, 'timeframe':hospital_ventilator_timeframe})\n",
    "\n",
    "vaccine_cases_graph=wdg.interactive_output(plot_vaccine_cases, {'scale': vaccine_cases_scale})"
   ]
  },
  {
   "cell_type": "markdown",
   "metadata": {},
   "source": [
    "## Occupied ventilator beds, new hospital admissions and deaths\n",
    "\n",
    "This graph compares the daily number of hospital admissions, to occupied mechanical ventilator beds, and daily deaths.\n",
    "\n",
    "Using the widgets you can:\n",
    "- Select multiple different statistics\n",
    "- Change the time frame for the statistics using the slider\n"
   ]
  },
  {
   "cell_type": "code",
   "execution_count": 33,
   "metadata": {},
   "outputs": [
    {
     "data": {
      "application/vnd.jupyter.widget-view+json": {
       "model_id": "6374e4846df14784a2109c7aa83ede19",
       "version_major": 2,
       "version_minor": 0
      },
      "text/plain": [
       "HBox(children=(SelectMultiple(description='Stats:', index=(0, 1, 2), options=('Hospital Admissions', 'Occupied…"
      ]
     },
     "metadata": {},
     "output_type": "display_data"
    },
    {
     "data": {
      "application/vnd.jupyter.widget-view+json": {
       "model_id": "5a458e85b0f441ef9772a5c40ec13558",
       "version_major": 2,
       "version_minor": 0
      },
      "text/plain": [
       "Output(outputs=({'output_type': 'display_data', 'data': {'text/plain': '<Figure size 1000x500 with 1 Axes>', '…"
      ]
     },
     "metadata": {},
     "output_type": "display_data"
    }
   ],
   "source": [
    "display(ventilator_hospital_controls, ventilator_hospital_graph)"
   ]
  },
  {
   "cell_type": "markdown",
   "metadata": {},
   "source": [
    "## Daily vaccine and case numbers\n",
    "\n",
    "This graph compares the daily number of vaccines administered to daily new covid cases.\n",
    "\n",
    "Using the widget you can toggle between seeing a linear or logarithmic view for the statistics."
   ]
  },
  {
   "cell_type": "code",
   "execution_count": 34,
   "metadata": {},
   "outputs": [
    {
     "data": {
      "application/vnd.jupyter.widget-view+json": {
       "model_id": "f22f2e18077749eb91320ec256fbb59d",
       "version_major": 2,
       "version_minor": 0
      },
      "text/plain": [
       "RadioButtons(description='Scale:', options=('Linear', 'Logarithmic'), value='Linear')"
      ]
     },
     "metadata": {},
     "output_type": "display_data"
    },
    {
     "data": {
      "application/vnd.jupyter.widget-view+json": {
       "model_id": "41444f98423740509d2b2a54f76526ed",
       "version_major": 2,
       "version_minor": 0
      },
      "text/plain": [
       "Output(outputs=({'output_type': 'display_data', 'data': {'text/plain': '<Figure size 1000x500 with 1 Axes>', '…"
      ]
     },
     "metadata": {},
     "output_type": "display_data"
    }
   ],
   "source": [
    "display(vaccine_cases_scale, vaccine_cases_graph)"
   ]
  }
 ],
 "metadata": {
  "kernelspec": {
   "display_name": "Python 3 (ipykernel)",
   "language": "python",
   "name": "python3"
  },
  "language_info": {
   "codemirror_mode": {
    "name": "ipython",
    "version": 3
   },
   "file_extension": ".py",
   "mimetype": "text/x-python",
   "name": "python",
   "nbconvert_exporter": "python",
   "pygments_lexer": "ipython3",
   "version": "3.9.12"
  }
 },
 "nbformat": 4,
 "nbformat_minor": 4
}
